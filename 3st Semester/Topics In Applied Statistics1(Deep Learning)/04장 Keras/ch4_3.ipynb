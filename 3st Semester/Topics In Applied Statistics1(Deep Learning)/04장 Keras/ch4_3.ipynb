{
 "cells": [
  {
   "cell_type": "code",
   "execution_count": 0,
   "metadata": {
    "colab": {
     "base_uri": "https://localhost:8080/",
     "height": 126
    },
    "colab_type": "code",
    "executionInfo": {
     "elapsed": 22199,
     "status": "ok",
     "timestamp": 1585986142881,
     "user": {
      "displayName": "‍이동규[ 대학원석사과정재학 / 통계학과 ]",
      "photoUrl": "",
      "userId": "08134145419451519269"
     },
     "user_tz": -540
    },
    "id": "H7LZfD-sE3-W",
    "outputId": "2009adf0-c1fd-49a6-fdda-30d56d946159"
   },
   "outputs": [
    {
     "name": "stdout",
     "output_type": "stream",
     "text": [
      "Go to this URL in a browser: https://accounts.google.com/o/oauth2/auth?client_id=947318989803-6bn6qk8qdgf4n4g3pfee6491hc0brc4i.apps.googleusercontent.com&redirect_uri=urn%3aietf%3awg%3aoauth%3a2.0%3aoob&response_type=code&scope=email%20https%3a%2f%2fwww.googleapis.com%2fauth%2fdocs.test%20https%3a%2f%2fwww.googleapis.com%2fauth%2fdrive%20https%3a%2f%2fwww.googleapis.com%2fauth%2fdrive.photos.readonly%20https%3a%2f%2fwww.googleapis.com%2fauth%2fpeopleapi.readonly\n",
      "\n",
      "Enter your authorization code:\n",
      "··········\n",
      "Mounted at /content/drive\n"
     ]
    }
   ],
   "source": [
    "from google.colab import drive\n",
    "drive.mount('/content/drive')"
   ]
  },
  {
   "cell_type": "code",
   "execution_count": 1,
   "metadata": {
    "colab": {},
    "colab_type": "code",
    "id": "Orwd17U4v12f"
   },
   "outputs": [],
   "source": [
    "import numpy as np\n",
    "from tensorflow.keras.layers import Dense, Dropout, Input, SimpleRNN\n",
    "from tensorflow.keras.models import Sequential, Model\n",
    "from tensorflow.keras.utils import to_categorical, plot_model\n",
    "from tensorflow.keras.datasets import mnist\n",
    "\n",
    "(x_train,y_train),(x_test,y_test)=mnist.load_data()\n",
    "y_train=to_categorical(y_train)\n",
    "y_test=to_categorical(y_test)\n",
    "shape1=x_train.shape[1]\n",
    "shape2=x_train.shape[2]\n",
    "x_train=x_train.reshape(-1, shape1,shape2).astype('float32') #RNN의 입력은 표본을 포함하여 3D 텐서임\n",
    "x_test=x_test.reshape(-1, shape1,shape2).astype('float32')\n",
    "x_train=x_train/255.\n",
    "x_test=x_test/255.\n",
    "input_shape=(shape1,shape2) #RNN의 표본 하나당 입력은 2D 텐서임"
   ]
  },
  {
   "cell_type": "code",
   "execution_count": 2,
   "metadata": {},
   "outputs": [
    {
     "data": {
      "text/plain": [
       "(28, 28)"
      ]
     },
     "execution_count": 2,
     "metadata": {},
     "output_type": "execute_result"
    }
   ],
   "source": [
    "input_shape"
   ]
  },
  {
   "cell_type": "code",
   "execution_count": 0,
   "metadata": {
    "colab": {
     "base_uri": "https://localhost:8080/",
     "height": 621
    },
    "colab_type": "code",
    "executionInfo": {
     "elapsed": 89633,
     "status": "ok",
     "timestamp": 1585990944305,
     "user": {
      "displayName": "‍이동규[ 대학원석사과정재학 / 통계학과 ]",
      "photoUrl": "",
      "userId": "08134145419451519269"
     },
     "user_tz": -540
    },
    "id": "0-B9CbqUJMyL",
    "outputId": "e28cec7e-3185-4fe0-9cdb-19386ff19a88"
   },
   "outputs": [
    {
     "name": "stdout",
     "output_type": "stream",
     "text": [
      "Model: \"sequential_11\"\n",
      "_________________________________________________________________\n",
      "Layer (type)                 Output Shape              Param #   \n",
      "=================================================================\n",
      "simple_rnn_11 (SimpleRNN)    (None, 256)               72960     \n",
      "_________________________________________________________________\n",
      "dense_11 (Dense)             (None, 10)                2570      \n",
      "=================================================================\n",
      "Total params: 75,530\n",
      "Trainable params: 75,530\n",
      "Non-trainable params: 0\n",
      "_________________________________________________________________\n",
      "Epoch 1/10\n",
      "235/235 [==============================] - 8s 36ms/step - loss: 0.5829 - accuracy: 0.8164\n",
      "Epoch 2/10\n",
      "235/235 [==============================] - 9s 36ms/step - loss: 0.2668 - accuracy: 0.9192\n",
      "Epoch 3/10\n",
      "235/235 [==============================] - 8s 35ms/step - loss: 0.1968 - accuracy: 0.9406\n",
      "Epoch 4/10\n",
      "235/235 [==============================] - 9s 36ms/step - loss: 0.1679 - accuracy: 0.9490\n",
      "Epoch 5/10\n",
      "235/235 [==============================] - 8s 36ms/step - loss: 0.1450 - accuracy: 0.9564\n",
      "Epoch 6/10\n",
      "235/235 [==============================] - 9s 37ms/step - loss: 0.1304 - accuracy: 0.9605\n",
      "Epoch 7/10\n",
      "235/235 [==============================] - 8s 36ms/step - loss: 0.1207 - accuracy: 0.9643\n",
      "Epoch 8/10\n",
      "235/235 [==============================] - 8s 36ms/step - loss: 0.1125 - accuracy: 0.9661\n",
      "Epoch 9/10\n",
      "235/235 [==============================] - 9s 37ms/step - loss: 0.1052 - accuracy: 0.9679\n",
      "Epoch 10/10\n",
      "235/235 [==============================] - 8s 36ms/step - loss: 0.0996 - accuracy: 0.9703\n",
      "313/313 [==============================] - 2s 5ms/step - loss: 0.0849 - accuracy: 0.9737\n",
      "[0.0848778709769249, 0.9736999869346619]\n"
     ]
    }
   ],
   "source": [
    "model=Sequential()\n",
    "model.add(SimpleRNN(units=256,dropout=0.2, input_shape=input_shape))\n",
    "model.add(Dense(10,activation='softmax'))\n",
    "model.summary()\n",
    "model.compile(loss='categorical_crossentropy', optimizer='RMSprop',metrics=['accuracy'])\n",
    "model.fit(x_train,y_train,epochs=10,batch_size=256)\n",
    "score=model.evaluate(x_test,y_test)\n",
    "print(score)"
   ]
  },
  {
   "cell_type": "code",
   "execution_count": 0,
   "metadata": {
    "colab": {
     "base_uri": "https://localhost:8080/",
     "height": 621
    },
    "colab_type": "code",
    "executionInfo": {
     "elapsed": 170825,
     "status": "ok",
     "timestamp": 1585991031265,
     "user": {
      "displayName": "‍이동규[ 대학원석사과정재학 / 통계학과 ]",
      "photoUrl": "",
      "userId": "08134145419451519269"
     },
     "user_tz": -540
    },
    "id": "eYcHMvD7Eg8o",
    "outputId": "001430f5-9d81-4d30-f7d5-9d0d796eba81"
   },
   "outputs": [
    {
     "name": "stdout",
     "output_type": "stream",
     "text": [
      "Model: \"sequential_12\"\n",
      "_________________________________________________________________\n",
      "Layer (type)                 Output Shape              Param #   \n",
      "=================================================================\n",
      "simple_rnn_12 (SimpleRNN)    (None, 256)               72960     \n",
      "_________________________________________________________________\n",
      "dense_12 (Dense)             (None, 10)                2570      \n",
      "=================================================================\n",
      "Total params: 75,530\n",
      "Trainable params: 75,530\n",
      "Non-trainable params: 0\n",
      "_________________________________________________________________\n",
      "Epoch 1/10\n",
      "235/235 [==============================] - 9s 36ms/step - loss: 0.5810 - accuracy: 0.8169\n",
      "Epoch 2/10\n",
      "235/235 [==============================] - 8s 36ms/step - loss: 0.2587 - accuracy: 0.9223\n",
      "Epoch 3/10\n",
      "235/235 [==============================] - 8s 35ms/step - loss: 0.1929 - accuracy: 0.9416\n",
      "Epoch 4/10\n",
      "235/235 [==============================] - 8s 35ms/step - loss: 0.1673 - accuracy: 0.9492\n",
      "Epoch 5/10\n",
      "235/235 [==============================] - 8s 36ms/step - loss: 0.1440 - accuracy: 0.9564\n",
      "Epoch 6/10\n",
      "235/235 [==============================] - 8s 36ms/step - loss: 0.1305 - accuracy: 0.9606\n",
      "Epoch 7/10\n",
      "235/235 [==============================] - 8s 36ms/step - loss: 0.1228 - accuracy: 0.9640\n",
      "Epoch 8/10\n",
      "235/235 [==============================] - 8s 35ms/step - loss: 0.1122 - accuracy: 0.9665\n",
      "Epoch 9/10\n",
      "235/235 [==============================] - 8s 36ms/step - loss: 0.1064 - accuracy: 0.9679\n",
      "Epoch 10/10\n",
      "235/235 [==============================] - 8s 35ms/step - loss: 0.0999 - accuracy: 0.9697\n",
      "313/313 [==============================] - 2s 5ms/step - loss: 0.1037 - accuracy: 0.9695\n",
      "[0.10365240275859833, 0.9695000052452087]\n"
     ]
    }
   ],
   "source": [
    "model=Sequential()\n",
    "model.add(SimpleRNN(units=256,dropout=0.2, input_shape=input_shape))\n",
    "model.add(Dense(10,activation='softmax'))\n",
    "model.summary()\n",
    "model.compile(loss='categorical_crossentropy', optimizer='RMSprop',metrics=['accuracy'])\n",
    "model.fit(x_train,y_train,epochs=10,batch_size=256)\n",
    "score=model.evaluate(x_test,y_test)\n",
    "print(score)"
   ]
  },
  {
   "cell_type": "code",
   "execution_count": 0,
   "metadata": {
    "colab": {
     "base_uri": "https://localhost:8080/",
     "height": 621
    },
    "colab_type": "code",
    "executionInfo": {
     "elapsed": 257850,
     "status": "ok",
     "timestamp": 1585991119543,
     "user": {
      "displayName": "‍이동규[ 대학원석사과정재학 / 통계학과 ]",
      "photoUrl": "",
      "userId": "08134145419451519269"
     },
     "user_tz": -540
    },
    "id": "1J6yujAcEhDV",
    "outputId": "55b2d5f0-b2a5-4e0b-f05a-a1cdb30a3228"
   },
   "outputs": [
    {
     "name": "stdout",
     "output_type": "stream",
     "text": [
      "Model: \"sequential_13\"\n",
      "_________________________________________________________________\n",
      "Layer (type)                 Output Shape              Param #   \n",
      "=================================================================\n",
      "simple_rnn_13 (SimpleRNN)    (None, 256)               72960     \n",
      "_________________________________________________________________\n",
      "dense_13 (Dense)             (None, 10)                2570      \n",
      "=================================================================\n",
      "Total params: 75,530\n",
      "Trainable params: 75,530\n",
      "Non-trainable params: 0\n",
      "_________________________________________________________________\n",
      "Epoch 1/10\n",
      "235/235 [==============================] - 8s 36ms/step - loss: 0.5862 - accuracy: 0.8159\n",
      "Epoch 2/10\n",
      "235/235 [==============================] - 8s 36ms/step - loss: 0.2684 - accuracy: 0.9174\n",
      "Epoch 3/10\n",
      "235/235 [==============================] - 8s 36ms/step - loss: 0.1974 - accuracy: 0.9407\n",
      "Epoch 4/10\n",
      "235/235 [==============================] - 8s 36ms/step - loss: 0.1642 - accuracy: 0.9502\n",
      "Epoch 5/10\n",
      "235/235 [==============================] - 8s 36ms/step - loss: 0.1470 - accuracy: 0.9563\n",
      "Epoch 6/10\n",
      "235/235 [==============================] - 8s 36ms/step - loss: 0.1321 - accuracy: 0.9601\n",
      "Epoch 7/10\n",
      "235/235 [==============================] - 9s 37ms/step - loss: 0.1241 - accuracy: 0.9626\n",
      "Epoch 8/10\n",
      "235/235 [==============================] - 9s 37ms/step - loss: 0.1103 - accuracy: 0.9671\n",
      "Epoch 9/10\n",
      "235/235 [==============================] - 8s 36ms/step - loss: 0.1089 - accuracy: 0.9677\n",
      "Epoch 10/10\n",
      "235/235 [==============================] - 8s 35ms/step - loss: 0.1014 - accuracy: 0.9692\n",
      "313/313 [==============================] - 2s 5ms/step - loss: 0.1035 - accuracy: 0.9693\n",
      "[0.1034773588180542, 0.9692999720573425]\n"
     ]
    }
   ],
   "source": [
    "model=Sequential()\n",
    "model.add(SimpleRNN(units=256,dropout=0.2, input_shape=input_shape))\n",
    "model.add(Dense(10,activation='softmax'))\n",
    "model.summary()\n",
    "model.compile(loss='categorical_crossentropy', optimizer='RMSprop',metrics=['accuracy'])\n",
    "model.fit(x_train,y_train,epochs=10,batch_size=256)\n",
    "score=model.evaluate(x_test,y_test)\n",
    "print(score)"
   ]
  },
  {
   "cell_type": "code",
   "execution_count": 0,
   "metadata": {
    "colab": {},
    "colab_type": "code",
    "id": "8PaQXUh8v12s"
   },
   "outputs": [],
   "source": []
  }
 ],
 "metadata": {
  "accelerator": "GPU",
  "colab": {
   "name": "ch4_3.ipynb",
   "provenance": []
  },
  "kernelspec": {
   "display_name": "Python 3",
   "language": "python",
   "name": "python3"
  },
  "language_info": {
   "codemirror_mode": {
    "name": "ipython",
    "version": 3
   },
   "file_extension": ".py",
   "mimetype": "text/x-python",
   "name": "python",
   "nbconvert_exporter": "python",
   "pygments_lexer": "ipython3",
   "version": "3.7.3"
  }
 },
 "nbformat": 4,
 "nbformat_minor": 1
}
