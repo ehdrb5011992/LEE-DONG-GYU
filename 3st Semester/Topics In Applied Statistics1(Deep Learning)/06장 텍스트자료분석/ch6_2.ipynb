{
 "cells": [
  {
   "cell_type": "code",
   "execution_count": 0,
   "metadata": {
    "colab": {
     "base_uri": "https://localhost:8080/",
     "height": 126
    },
    "colab_type": "code",
    "executionInfo": {
     "elapsed": 87842,
     "status": "ok",
     "timestamp": 1586781228271,
     "user": {
      "displayName": "‍이동규[ 대학원석사과정재학 / 통계학과 ]",
      "photoUrl": "",
      "userId": "08134145419451519269"
     },
     "user_tz": -540
    },
    "id": "IFPwdGLXYS7s",
    "outputId": "5cc4bb4a-0c4c-4f65-f725-e56941d55601"
   },
   "outputs": [
    {
     "name": "stdout",
     "output_type": "stream",
     "text": [
      "Go to this URL in a browser: https://accounts.google.com/o/oauth2/auth?client_id=947318989803-6bn6qk8qdgf4n4g3pfee6491hc0brc4i.apps.googleusercontent.com&redirect_uri=urn%3aietf%3awg%3aoauth%3a2.0%3aoob&response_type=code&scope=email%20https%3a%2f%2fwww.googleapis.com%2fauth%2fdocs.test%20https%3a%2f%2fwww.googleapis.com%2fauth%2fdrive%20https%3a%2f%2fwww.googleapis.com%2fauth%2fdrive.photos.readonly%20https%3a%2f%2fwww.googleapis.com%2fauth%2fpeopleapi.readonly\n",
      "\n",
      "Enter your authorization code:\n",
      "··········\n",
      "Mounted at /content/drive\n"
     ]
    }
   ],
   "source": [
    "from google.colab import drive\n",
    "drive.mount('/content/drive')"
   ]
  },
  {
   "cell_type": "code",
   "execution_count": 0,
   "metadata": {
    "colab": {},
    "colab_type": "code",
    "id": "mFpucJ5TiadJ"
   },
   "outputs": [],
   "source": [
    "from tensorflow.keras.preprocessing.text import Tokenizer\n",
    "from tensorflow.keras.preprocessing import sequence\n",
    "samples=['The cat sits on the mat','The other cat % $ # @ runs over the mats']"
   ]
  },
  {
   "cell_type": "code",
   "execution_count": 0,
   "metadata": {
    "colab": {},
    "colab_type": "code",
    "id": "3cntsbaliagR"
   },
   "outputs": [],
   "source": [
    "tokenizer=Tokenizer(num_words=12)\n",
    "tokenizer.fit_on_texts(samples) # 이자체로 fitting이 됨. samples에 해당하는 데이터가 tokenizer라는 변수에 들어감.\n",
    "# num_words를 12뤄 줬기 때문에, 두 문장에 대해 length = 12인 벡터가 출력됨.\n",
    "# 그리고, word_id에 맞는 위치에 단어 존재 여부를 1 , 0으로 표현함. "
   ]
  },
  {
   "cell_type": "code",
   "execution_count": 0,
   "metadata": {
    "colab": {
     "base_uri": "https://localhost:8080/",
     "height": 35
    },
    "colab_type": "code",
    "executionInfo": {
     "elapsed": 1121,
     "status": "ok",
     "timestamp": 1586781455312,
     "user": {
      "displayName": "‍이동규[ 대학원석사과정재학 / 통계학과 ]",
      "photoUrl": "",
      "userId": "08134145419451519269"
     },
     "user_tz": -540
    },
    "id": "N477ONxfiabF",
    "outputId": "2107addb-87aa-4d25-d79a-076b701d957c"
   },
   "outputs": [
    {
     "name": "stdout",
     "output_type": "stream",
     "text": [
      "{'the': 1, 'cat': 2, 'sits': 3, 'on': 4, 'mat': 5, 'other': 6, 'runs': 7, 'over': 8, 'mats': 9}\n"
     ]
    }
   ],
   "source": [
    "word_id=tokenizer.word_index # 셈플적용하면, 얘를 뽑을 수 있음.\n",
    "print(word_id)"
   ]
  },
  {
   "cell_type": "code",
   "execution_count": 0,
   "metadata": {
    "colab": {
     "base_uri": "https://localhost:8080/",
     "height": 35
    },
    "colab_type": "code",
    "executionInfo": {
     "elapsed": 1329,
     "status": "ok",
     "timestamp": 1586781477064,
     "user": {
      "displayName": "‍이동규[ 대학원석사과정재학 / 통계학과 ]",
      "photoUrl": "",
      "userId": "08134145419451519269"
     },
     "user_tz": -540
    },
    "id": "bI0SRFBaihWA",
    "outputId": "91c01962-bfc3-4f5b-c2c3-ec666ca7089a"
   },
   "outputs": [
    {
     "name": "stdout",
     "output_type": "stream",
     "text": [
      "[[1, 2, 3, 4, 1, 5], [1, 6, 2, 7, 8, 1, 9]]\n"
     ]
    }
   ],
   "source": [
    "seq=tokenizer.texts_to_sequences(samples)\n",
    "print(seq)"
   ]
  },
  {
   "cell_type": "code",
   "execution_count": 0,
   "metadata": {
    "colab": {
     "base_uri": "https://localhost:8080/",
     "height": 52
    },
    "colab_type": "code",
    "executionInfo": {
     "elapsed": 1232,
     "status": "ok",
     "timestamp": 1586781552131,
     "user": {
      "displayName": "‍이동규[ 대학원석사과정재학 / 통계학과 ]",
      "photoUrl": "",
      "userId": "08134145419451519269"
     },
     "user_tz": -540
    },
    "id": "J72SY9mDihTH",
    "outputId": "ee0dde79-ba18-4867-bd5f-cade6d10bc69"
   },
   "outputs": [
    {
     "name": "stdout",
     "output_type": "stream",
     "text": [
      "[[0 1 2 3 4 1 5]\n",
      " [1 6 2 7 8 1 9]]\n"
     ]
    }
   ],
   "source": [
    "xx=sequence.pad_sequences(seq, maxlen=7) \n",
    "# 숫자를 채울때는 앞에서부터 채움 / 지울때는 앞에서부터 지움. 이는 물론 옵션으로 조절할 수 있음. padding='pre' or 'post'\n",
    " #이 값은 time step에 해당할 길이를 정하는거임.\n",
    "print(xx)"
   ]
  },
  {
   "cell_type": "code",
   "execution_count": 0,
   "metadata": {
    "colab": {
     "base_uri": "https://localhost:8080/",
     "height": 52
    },
    "colab_type": "code",
    "executionInfo": {
     "elapsed": 1055,
     "status": "ok",
     "timestamp": 1586781571518,
     "user": {
      "displayName": "‍이동규[ 대학원석사과정재학 / 통계학과 ]",
      "photoUrl": "",
      "userId": "08134145419451519269"
     },
     "user_tz": -540
    },
    "id": "WLEd-B48ilDc",
    "outputId": "1f2afe88-bddc-45ba-d133-309841b7e4ef"
   },
   "outputs": [
    {
     "name": "stdout",
     "output_type": "stream",
     "text": [
      "[[0. 1. 1. 1. 1. 1. 0. 0. 0. 0. 0. 0.]\n",
      " [0. 1. 1. 0. 0. 0. 1. 1. 1. 1. 0. 0.]]\n"
     ]
    }
   ],
   "source": [
    "# 이때, index = 0 (첫번째 열) 은 언제나 없는 값이므로, 이를 늘 고려해서 처리해야함. \n",
    "# 동시에, 0이라는 숫자는 missing, 결측치라는 뜻을 같이 지님.\n",
    "xx1=tokenizer.sequences_to_matrix(seq,mode='binary')\n",
    "print(xx1)\n",
    "\n",
    "# 만약 num_words 를 8을 주면, 맨 앞은 당연히 0이고, 나머지 7개 단어에 대해서 단어를 채우게 된다. (나머지는 잘라버림.)\n",
    "# 자르는 것도 빈도순으로 진행하게 됨.\n",
    "# 따라서, 모든 단어를 포함하기 위해서는 num_words = token + 1 로 구성을 해야함.\n",
    "# 그러나, 일반적으로는 단어는 수십만개기 때문에 그걸 다 이용하지는 못함. 그래서 크게 신경쓰지는 않아도 됨.\n",
    "# 다만, 맨 처음은 0으로 채우는것을 늘 잊지말고 염두해야함. 그래서 이 1개를 고려하는걸 잊지말기."
   ]
  },
  {
   "cell_type": "code",
   "execution_count": 0,
   "metadata": {
    "colab": {},
    "colab_type": "code",
    "id": "PSPAxd2sjsPn"
   },
   "outputs": [],
   "source": [
    "# 아래는 테스트\n",
    "tt = Tokenizer(num_words=8)"
   ]
  },
  {
   "cell_type": "code",
   "execution_count": 0,
   "metadata": {
    "colab": {},
    "colab_type": "code",
    "id": "QggjOUmUj7TU"
   },
   "outputs": [],
   "source": [
    "tt.fit_on_texts(samples)"
   ]
  },
  {
   "cell_type": "code",
   "execution_count": 0,
   "metadata": {
    "colab": {
     "base_uri": "https://localhost:8080/",
     "height": 35
    },
    "colab_type": "code",
    "executionInfo": {
     "elapsed": 1160,
     "status": "ok",
     "timestamp": 1586781878543,
     "user": {
      "displayName": "‍이동규[ 대학원석사과정재학 / 통계학과 ]",
      "photoUrl": "",
      "userId": "08134145419451519269"
     },
     "user_tz": -540
    },
    "id": "053muM6Hj7Xb",
    "outputId": "377345a4-2682-408a-8c4a-784080e524cf"
   },
   "outputs": [
    {
     "name": "stdout",
     "output_type": "stream",
     "text": [
      "{'the': 1, 'cat': 2, 'sits': 3, 'on': 4, 'mat': 5, 'other': 6, 'runs': 7, 'over': 8, 'mats': 9}\n"
     ]
    }
   ],
   "source": [
    "print(tt.word_index)"
   ]
  },
  {
   "cell_type": "code",
   "execution_count": 0,
   "metadata": {
    "colab": {
     "base_uri": "https://localhost:8080/",
     "height": 35
    },
    "colab_type": "code",
    "executionInfo": {
     "elapsed": 1299,
     "status": "ok",
     "timestamp": 1586782116399,
     "user": {
      "displayName": "‍이동규[ 대학원석사과정재학 / 통계학과 ]",
      "photoUrl": "",
      "userId": "08134145419451519269"
     },
     "user_tz": -540
    },
    "id": "4XYlkHgJjsgp",
    "outputId": "380ee72d-31db-4bb5-80ac-f588fb460614"
   },
   "outputs": [
    {
     "name": "stdout",
     "output_type": "stream",
     "text": [
      "[[1, 2, 3, 4, 1, 5], [1, 6, 2, 7, 1]]\n"
     ]
    }
   ],
   "source": [
    "seq2=tt.texts_to_sequences(samples)\n",
    "print(seq2)"
   ]
  },
  {
   "cell_type": "code",
   "execution_count": 0,
   "metadata": {
    "colab": {
     "base_uri": "https://localhost:8080/",
     "height": 52
    },
    "colab_type": "code",
    "executionInfo": {
     "elapsed": 1513,
     "status": "ok",
     "timestamp": 1586782258303,
     "user": {
      "displayName": "‍이동규[ 대학원석사과정재학 / 통계학과 ]",
      "photoUrl": "",
      "userId": "08134145419451519269"
     },
     "user_tz": -540
    },
    "id": "OL3F4GPskqEx",
    "outputId": "f46f9b30-31ad-4e1e-b6c2-6fb4932ad2ad"
   },
   "outputs": [
    {
     "data": {
      "text/plain": [
       "array([[4, 1, 5],\n",
       "       [2, 7, 1]], dtype=int32)"
      ]
     },
     "execution_count": 15,
     "metadata": {
      "tags": []
     },
     "output_type": "execute_result"
    }
   ],
   "source": [
    "sequence.pad_sequences(seq2,maxlen=3)"
   ]
  },
  {
   "cell_type": "code",
   "execution_count": 0,
   "metadata": {
    "colab": {
     "base_uri": "https://localhost:8080/",
     "height": 52
    },
    "colab_type": "code",
    "executionInfo": {
     "elapsed": 1649,
     "status": "ok",
     "timestamp": 1586782752520,
     "user": {
      "displayName": "‍이동규[ 대학원석사과정재학 / 통계학과 ]",
      "photoUrl": "",
      "userId": "08134145419451519269"
     },
     "user_tz": -540
    },
    "id": "0_4iOTI1kqLL",
    "outputId": "2bf11f96-fba9-49c9-d476-411081d44b0e"
   },
   "outputs": [
    {
     "name": "stdout",
     "output_type": "stream",
     "text": [
      "[[0. 2. 1. 1. 1. 1. 0. 0. 0. 0. 0. 0.]\n",
      " [0. 2. 1. 0. 0. 0. 1. 1. 0. 0. 0. 0.]]\n"
     ]
    }
   ],
   "source": [
    "xx2=tokenizer.sequences_to_matrix(seq2,mode='count') # mode = c(\"binary\", \"count\",\"tfidf\", \"freq\") 중에 하나 선택.\n",
    "print(xx2)"
   ]
  },
  {
   "cell_type": "code",
   "execution_count": 0,
   "metadata": {
    "colab": {},
    "colab_type": "code",
    "id": "u4c6AtYWnaXv"
   },
   "outputs": [],
   "source": [
    "###### 끝 ######"
   ]
  },
  {
   "cell_type": "code",
   "execution_count": 0,
   "metadata": {
    "colab": {},
    "colab_type": "code",
    "id": "Y7i_J_isnaVW"
   },
   "outputs": [],
   "source": []
  },
  {
   "cell_type": "code",
   "execution_count": 0,
   "metadata": {
    "colab": {
     "base_uri": "https://localhost:8080/",
     "height": 70
    },
    "colab_type": "code",
    "executionInfo": {
     "elapsed": 1142,
     "status": "ok",
     "timestamp": 1586783104849,
     "user": {
      "displayName": "‍이동규[ 대학원석사과정재학 / 통계학과 ]",
      "photoUrl": "",
      "userId": "08134145419451519269"
     },
     "user_tz": -540
    },
    "id": "AA2lblJOX8Oe",
    "outputId": "c375c315-a7e6-499d-e6a7-5081119a8616"
   },
   "outputs": [
    {
     "name": "stdout",
     "output_type": "stream",
     "text": [
      "[[3, 2, 2, 1, 1, 1], [3, 2, 1, 1]]\n",
      "[[0. 1. 1. 1.]\n",
      " [0. 1. 1. 1.]]\n"
     ]
    }
   ],
   "source": [
    "token=Tokenizer(num_words=4)\n",
    "texts=['a b b c c c','a b c c']\n",
    "token.fit_on_texts(texts)\n",
    "\n",
    "## 위에서는\n",
    "seq3=token.texts_to_sequences(texts)\n",
    "print(seq3)\n",
    "\n",
    "mat = token.sequences_to_matrix(seq3,mode='binary') #sequence_to_matrix 가 있고, (각 행(데이터)를 숫자로 나타낸 sequence를 가지고 one_hot_coding을 하는 방법.)\n",
    "print(mat)\n",
    "\n",
    "#즉 , texts_to_sequences + sequences_to_matrix -> texts_to_matrix 로 한번에 가능!!! (아래처럼 표현 가능.)"
   ]
  },
  {
   "cell_type": "code",
   "execution_count": 0,
   "metadata": {
    "colab": {
     "base_uri": "https://localhost:8080/",
     "height": 124
    },
    "colab_type": "code",
    "executionInfo": {
     "elapsed": 1787,
     "status": "ok",
     "timestamp": 1586783109646,
     "user": {
      "displayName": "‍이동규[ 대학원석사과정재학 / 통계학과 ]",
      "photoUrl": "",
      "userId": "08134145419451519269"
     },
     "user_tz": -540
    },
    "id": "FvEsdi-7oXN4",
    "outputId": "a189c2b4-b1c5-43bc-a0c3-863f4703eba2"
   },
   "outputs": [
    {
     "name": "stdout",
     "output_type": "stream",
     "text": [
      "[[0. 1. 1. 1.]\n",
      " [0. 1. 1. 1.]]\n",
      "[[0. 3. 2. 1.]\n",
      " [0. 2. 1. 1.]]\n",
      "[[0.         1.07202493 0.86490296 0.51082562]\n",
      " [0.         0.86490296 0.51082562 0.51082562]]\n"
     ]
    }
   ],
   "source": [
    "matrix1=token.texts_to_matrix(texts,mode='binary') #texts_to_matrix가 있음.\n",
    "matrix2=token.texts_to_matrix(texts,mode='count')\n",
    "matrix3=token.texts_to_matrix(texts,mode='tfidf')\n",
    "print(matrix1)\n",
    "print(matrix2)\n",
    "print(matrix3)\n",
    "\n",
    "\n",
    "\n",
    "#이렇게 값을 줄 수 있다는 것을 명심하기. "
   ]
  },
  {
   "cell_type": "code",
   "execution_count": 0,
   "metadata": {
    "colab": {},
    "colab_type": "code",
    "id": "F6PUZ8C5X8Ot"
   },
   "outputs": [],
   "source": []
  }
 ],
 "metadata": {
  "accelerator": "GPU",
  "colab": {
   "collapsed_sections": [],
   "name": "ch6_2.ipynb",
   "provenance": []
  },
  "kernelspec": {
   "display_name": "Python 3",
   "language": "python",
   "name": "python3"
  },
  "language_info": {
   "codemirror_mode": {
    "name": "ipython",
    "version": 3
   },
   "file_extension": ".py",
   "mimetype": "text/x-python",
   "name": "python",
   "nbconvert_exporter": "python",
   "pygments_lexer": "ipython3",
   "version": "3.7.3"
  }
 },
 "nbformat": 4,
 "nbformat_minor": 1
}
