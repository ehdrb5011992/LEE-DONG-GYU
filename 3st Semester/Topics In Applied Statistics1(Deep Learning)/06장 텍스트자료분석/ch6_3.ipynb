{
 "cells": [
  {
   "cell_type": "code",
   "execution_count": 0,
   "metadata": {
    "colab": {
     "base_uri": "https://localhost:8080/",
     "height": 126
    },
    "colab_type": "code",
    "executionInfo": {
     "elapsed": 22508,
     "status": "ok",
     "timestamp": 1586783433035,
     "user": {
      "displayName": "‍이동규[ 대학원석사과정재학 / 통계학과 ]",
      "photoUrl": "",
      "userId": "08134145419451519269"
     },
     "user_tz": -540
    },
    "id": "4wdWrBUnhqNP",
    "outputId": "459b32c8-9c09-4831-f592-8f2712b8529c"
   },
   "outputs": [
    {
     "name": "stdout",
     "output_type": "stream",
     "text": [
      "Go to this URL in a browser: https://accounts.google.com/o/oauth2/auth?client_id=947318989803-6bn6qk8qdgf4n4g3pfee6491hc0brc4i.apps.googleusercontent.com&redirect_uri=urn%3aietf%3awg%3aoauth%3a2.0%3aoob&response_type=code&scope=email%20https%3a%2f%2fwww.googleapis.com%2fauth%2fdocs.test%20https%3a%2f%2fwww.googleapis.com%2fauth%2fdrive%20https%3a%2f%2fwww.googleapis.com%2fauth%2fdrive.photos.readonly%20https%3a%2f%2fwww.googleapis.com%2fauth%2fpeopleapi.readonly\n",
      "\n",
      "Enter your authorization code:\n",
      "··········\n",
      "Mounted at /content/drive\n"
     ]
    }
   ],
   "source": [
    "from google.colab import drive\n",
    "drive.mount('/content/drive')"
   ]
  },
  {
   "cell_type": "code",
   "execution_count": 1,
   "metadata": {
    "colab": {
     "base_uri": "https://localhost:8080/",
     "height": 35
    },
    "colab_type": "code",
    "executionInfo": {
     "elapsed": 1423,
     "status": "ok",
     "timestamp": 1586839743454,
     "user": {
      "displayName": "‍이동규[ 대학원석사과정재학 / 통계학과 ]",
      "photoUrl": "",
      "userId": "08134145419451519269"
     },
     "user_tz": -540
    },
    "id": "JnuoTpBNBJRJ",
    "outputId": "d4c1a306-5d70-47ff-92dc-b57b8ec6a183"
   },
   "outputs": [
    {
     "data": {
      "text/plain": [
       "'/content'"
      ]
     },
     "execution_count": 1,
     "metadata": {
      "tags": []
     },
     "output_type": "execute_result"
    }
   ],
   "source": [
    "import os\n",
    "os.getcwd()"
   ]
  },
  {
   "cell_type": "code",
   "execution_count": 1,
   "metadata": {
    "colab": {
     "base_uri": "https://localhost:8080/",
     "height": 88
    },
    "colab_type": "code",
    "executionInfo": {
     "elapsed": 6124,
     "status": "ok",
     "timestamp": 1586783503131,
     "user": {
      "displayName": "‍이동규[ 대학원석사과정재학 / 통계학과 ]",
      "photoUrl": "",
      "userId": "08134145419451519269"
     },
     "user_tz": -540
    },
    "id": "n3qgTuE6X9ns",
    "outputId": "34a9c7bf-c2e6-4417-984c-7e0fd571c530"
   },
   "outputs": [
    {
     "name": "stdout",
     "output_type": "stream",
     "text": [
      "(25000,)\n",
      "(25000,)\n"
     ]
    }
   ],
   "source": [
    "from tensorflow.keras.datasets import imdb\n",
    "from tensorflow.keras.preprocessing import sequence\n",
    "(x_train, train_label), (x_test, test_label)=imdb.load_data(num_words=10000) \n",
    "#여기에 나오는 단어수는 1만개만 사용하겠다. (가장 빈번한 만개) / 정확히는 9999개임. 첫번째 열은 0으로써 의미가 없기 때문.\n",
    "print(x_train.shape)\n",
    "print(x_test.shape)"
   ]
  },
  {
   "cell_type": "code",
   "execution_count": 0,
   "metadata": {
    "colab": {
     "base_uri": "https://localhost:8080/",
     "height": 72
    },
    "colab_type": "code",
    "executionInfo": {
     "elapsed": 1114,
     "status": "ok",
     "timestamp": 1586785037903,
     "user": {
      "displayName": "‍이동규[ 대학원석사과정재학 / 통계학과 ]",
      "photoUrl": "",
      "userId": "08134145419451519269"
     },
     "user_tz": -540
    },
    "id": "6nlDBW-PX9nz",
    "outputId": "f4ee177e-907e-419d-b297-7fc791ccc81e",
    "scrolled": true
   },
   "outputs": [
    {
     "name": "stdout",
     "output_type": "stream",
     "text": [
      "[1, 14, 22, 16, 43, 530, 973, 1622, 1385, 65, 458, 4468, 66, 3941, 4, 173, 36, 256, 5, 25, 100, 43, 838, 112, 50, 670, 2, 9, 35, 480, 284, 5, 150, 4, 172, 112, 167, 2, 336, 385, 39, 4, 172, 4536, 1111, 17, 546, 38, 13, 447, 4, 192, 50, 16, 6, 147, 2025, 19, 14, 22, 4, 1920, 4613, 469, 4, 22, 71, 87, 12, 16, 43, 530, 38, 76, 15, 13, 1247, 4, 22, 17, 515, 17, 12, 16, 626, 18, 2, 5, 62, 386, 12, 8, 316, 8, 106, 5, 4, 2223, 5244, 16, 480, 66, 3785, 33, 4, 130, 12, 16, 38, 619, 5, 25, 124, 51, 36, 135, 48, 25, 1415, 33, 6, 22, 12, 215, 28, 77, 52, 5, 14, 407, 16, 82, 2, 8, 4, 107, 117, 5952, 15, 256, 4, 2, 7, 3766, 5, 723, 36, 71, 43, 530, 476, 26, 400, 317, 46, 7, 4, 2, 1029, 13, 104, 88, 4, 381, 15, 297, 98, 32, 2071, 56, 26, 141, 6, 194, 7486, 18, 4, 226, 22, 21, 134, 476, 26, 480, 5, 144, 30, 5535, 18, 51, 36, 28, 224, 92, 25, 104, 4, 226, 65, 16, 38, 1334, 88, 12, 16, 283, 5, 16, 4472, 113, 103, 32, 15, 16, 5345, 19, 178, 32]\n",
      "1\n"
     ]
    }
   ],
   "source": [
    "print(x_train[0]) # 각 단어의 위치가 출력됨. 하나의 글임.\n",
    "print(train_label[0]) # 좋은 평가."
   ]
  },
  {
   "cell_type": "code",
   "execution_count": 3,
   "metadata": {},
   "outputs": [
    {
     "data": {
      "text/plain": [
       "218"
      ]
     },
     "execution_count": 3,
     "metadata": {},
     "output_type": "execute_result"
    }
   ],
   "source": [
    "len(x_train[0])"
   ]
  },
  {
   "cell_type": "code",
   "execution_count": 0,
   "metadata": {
    "colab": {
     "base_uri": "https://localhost:8080/",
     "height": 337
    },
    "colab_type": "code",
    "executionInfo": {
     "elapsed": 1097,
     "status": "ok",
     "timestamp": 1586785124034,
     "user": {
      "displayName": "‍이동규[ 대학원석사과정재학 / 통계학과 ]",
      "photoUrl": "",
      "userId": "08134145419451519269"
     },
     "user_tz": -540
    },
    "id": "dsZjGJLiX9n4",
    "outputId": "e57a7d9f-21c1-4718-b49f-5e602ab5c6d0",
    "scrolled": true
   },
   "outputs": [
    {
     "name": "stdout",
     "output_type": "stream",
     "text": [
      "Model: \"sequential_2\"\n",
      "_________________________________________________________________\n",
      "Layer (type)                 Output Shape              Param #   \n",
      "=================================================================\n",
      "embedding_2 (Embedding)      (None, 100, 95)           950000    \n",
      "_________________________________________________________________\n",
      "dropout_3 (Dropout)          (None, 100, 95)           0         \n",
      "_________________________________________________________________\n",
      "flatten_2 (Flatten)          (None, 9500)              0         \n",
      "_________________________________________________________________\n",
      "dropout_4 (Dropout)          (None, 9500)              0         \n",
      "_________________________________________________________________\n",
      "dense_2 (Dense)              (None, 1)                 9501      \n",
      "=================================================================\n",
      "Total params: 959,501\n",
      "Trainable params: 959,501\n",
      "Non-trainable params: 0\n",
      "_________________________________________________________________\n"
     ]
    }
   ],
   "source": [
    "x_train=sequence.pad_sequences(x_train,maxlen=100) # 단어들의 앞에서 100개씩만 쓰겠다. (100개만 padding함.) - 100개의 데이터로 평가함.\n",
    "x_test=sequence.pad_sequences(x_test,maxlen=100) #만약 100개가 안되면, 앞에 0을 채우게 됨.\n",
    "from tensorflow.keras.models import Sequential\n",
    "from tensorflow.keras.layers import Flatten, Dense, Embedding,Dropout # embedding이 있음.\n",
    "imdb=Sequential()\n",
    "imdb.add(Embedding(10000,95,input_length=100)) # input_length는 window size \n",
    "# 10000개 대한 variable을 고려중. 10000개의 one hot vector 공간, 95개의 node로받음(dense vector). \n",
    "# input _length는 time step에 해당.\n",
    "# 실제는 9999개의 단어를 사용하는거임. (맨앞의 1개는 0 - '아무것도 없음' 임을 잊지말기. 혹은 쓰레기 label을 전부 0으로 할당한다는 의미.) -> 100개의 단어가 1만개 길이의 one hot encoding 되어있음.\n",
    "# 행은 100(RNN모형의 time step관점에서) , 열은 1만 -> 95개의 output 노드로 압축.  # 물론 여기는 RNN은 아니고, MLP이긴 하지만 결국 그게그거. 이해하는데는 RNN이 직관적으로 이해할 수 있어 쉽다.\n",
    "# 다시말해, 10000 x 95가 parameter의 수가 되는 것. (물론 intercept는 없다. 의미가 없기 때문.) // # 1만개가 input layer의 node수가 되는거임.\n",
    "# input은 1만개가 들어오는거임.\n",
    "\n",
    "# 1만개의 one-zero features / 100개의 time step -> 100개씩 살펴본다는 의미로, batch size에 가까운 느낌이다. 물론 진정한 batch size와는 거리가 멀다. / 95개의 hidden node \n",
    "# 다시말해, 100은 정보공간임. 100으로 통일하는 이유는, 문장의 길이가 다를 때 표현할수 있는 정보력이 각각 달라지기 때문에 그럼.\n",
    "# 100으로 정확히 정해놓으면, 단어길이에 더이상 의존하지 않고, 동일선상에서 바라보게 됨.\n",
    "# 막말로 1이라고 가정하면, 문장길이를 1로 살펴본다는 의미이며, 단어 1개에 대해 feature값만 지니는 output이 나옴.\n",
    "# 우리는 100개씩 살펴보기 때문에, 100 x 95 에 해당하는 feature shape가 output으로 나오게 됨.\n",
    "# 쉽게 말해 input space의 1만에 해당하는 것 중 1개만 1, 나머지 9999개는 0이고, 이런게 100개 반복. (95로 출력)\n",
    "\n",
    "\n",
    "# 1만개의 단어(정확히는 9999개의 단어)공간에서, 1개의 sample을 100개의 단어(100은 문장길이, 시간스탭)로 제한시킴(살펴볼거임). \n",
    "# 1개의 sample, (100,)벡터는 각 원소가 0부터 1만 이상의 값을 지닐 수 있음. 이를 1만으로 제한시킴.\n",
    "\n",
    "# 그리고 결국, 95개의 feature로 뽑는 과정이라 생각하면 쉬움.\n",
    "\n",
    "\n",
    "#imdb.add(Dropout(0.5)) #이거 dropout 왜필요할까?? 개인적인 생각으로 필요없을듯.\n",
    "imdb.add(Flatten())\n",
    "imdb.add(Dropout(0.5))\n",
    "imdb.add(Dense(1, activation='sigmoid')) # positive or negative 를 바라보기 때문.\n",
    "imdb.summary()\n",
    "\n",
    "#모형 요약을 보면, 3D tensor에 대한 MLP 구조를 다루는 중."
   ]
  },
  {
   "cell_type": "code",
   "execution_count": 0,
   "metadata": {
    "colab": {
     "base_uri": "https://localhost:8080/",
     "height": 372
    },
    "colab_type": "code",
    "executionInfo": {
     "elapsed": 47555,
     "status": "ok",
     "timestamp": 1586785172886,
     "user": {
      "displayName": "‍이동규[ 대학원석사과정재학 / 통계학과 ]",
      "photoUrl": "",
      "userId": "08134145419451519269"
     },
     "user_tz": -540
    },
    "id": "bVDjiPi3X9n9",
    "outputId": "8f2f1476-db6b-4558-fb13-0c19d77f6f10"
   },
   "outputs": [
    {
     "name": "stdout",
     "output_type": "stream",
     "text": [
      "Epoch 1/10\n",
      "665/665 [==============================] - 5s 7ms/step - loss: 0.5979 - acc: 0.6760 - val_loss: 0.4439 - val_acc: 0.8048\n",
      "Epoch 2/10\n",
      "665/665 [==============================] - 5s 7ms/step - loss: 0.3633 - acc: 0.8419 - val_loss: 0.3565 - val_acc: 0.8408\n",
      "Epoch 3/10\n",
      "665/665 [==============================] - 5s 7ms/step - loss: 0.2971 - acc: 0.8744 - val_loss: 0.3393 - val_acc: 0.8515\n",
      "Epoch 4/10\n",
      "665/665 [==============================] - 5s 7ms/step - loss: 0.2588 - acc: 0.8907 - val_loss: 0.3395 - val_acc: 0.8549\n",
      "Epoch 5/10\n",
      "665/665 [==============================] - 4s 7ms/step - loss: 0.2283 - acc: 0.9085 - val_loss: 0.3433 - val_acc: 0.8555\n",
      "Epoch 6/10\n",
      "665/665 [==============================] - 5s 7ms/step - loss: 0.2044 - acc: 0.9194 - val_loss: 0.3470 - val_acc: 0.8579\n",
      "Epoch 7/10\n",
      "665/665 [==============================] - 5s 7ms/step - loss: 0.1824 - acc: 0.9284 - val_loss: 0.3495 - val_acc: 0.8539\n",
      "Epoch 8/10\n",
      "665/665 [==============================] - 5s 7ms/step - loss: 0.1617 - acc: 0.9392 - val_loss: 0.3609 - val_acc: 0.8573\n",
      "Epoch 9/10\n",
      "665/665 [==============================] - 5s 7ms/step - loss: 0.1416 - acc: 0.9475 - val_loss: 0.3650 - val_acc: 0.8589\n",
      "Epoch 10/10\n",
      "665/665 [==============================] - 5s 7ms/step - loss: 0.1252 - acc: 0.9553 - val_loss: 0.3709 - val_acc: 0.8560\n"
     ]
    }
   ],
   "source": [
    "imdb.compile(optimizer='rmsprop', loss='binary_crossentropy', metrics=['acc'])\n",
    "result=imdb.fit(x_train, train_label, epochs=10,batch_size=32, validation_split=0.15) #validation을 0.15로\n",
    "# 결과는 overfitting이 되어있음.\n",
    "# 100개의 단어만 사용했다는 점에서는, 충분히 감안을 해야함.\n",
    "# 만약 500개를 한다면, 상당히 결과가 더 개선될거임. -> 이건 과제 (time step을 100개에서 500개로 나눠서 해보기)\n",
    "# + overfitting문제를 줄여보기. dense층을 한번더 줄여보든지, node를 줄여보든지 등을 해보기.\n",
    "# 프로그램을 이런 관점에서 조금씩 건드려야함.\n",
    "# 이렇게 embedding 학습.\n",
    "\n",
    "\n",
    "#우리는 지금 잘 정리된 imdb 데이터를 가지고 작업중."
   ]
  },
  {
   "cell_type": "code",
   "execution_count": 0,
   "metadata": {
    "colab": {
     "base_uri": "https://localhost:8080/",
     "height": 545
    },
    "colab_type": "code",
    "executionInfo": {
     "elapsed": 1242,
     "status": "ok",
     "timestamp": 1586785188213,
     "user": {
      "displayName": "‍이동규[ 대학원석사과정재학 / 통계학과 ]",
      "photoUrl": "",
      "userId": "08134145419451519269"
     },
     "user_tz": -540
    },
    "id": "AMEBwkA-X9oC",
    "outputId": "1f0de637-630a-4013-9248-5478d9d3a053",
    "scrolled": false
   },
   "outputs": [
    {
     "data": {
      "image/png": "[encoded data removed]",
      "text/plain": [
       "<Figure size 432x288 with 1 Axes>"
      ]
     },
     "metadata": {
      "needs_background": "light",
      "tags": []
     },
     "output_type": "display_data"
    },
    {
     "data": {
      "image/png": "[encoded data removed]",
      "text/plain": [
       "<Figure size 432x288 with 1 Axes>"
      ]
     },
     "metadata": {
      "needs_background": "light",
      "tags": []
     },
     "output_type": "display_data"
    }
   ],
   "source": [
    "import matplotlib.pyplot as plt\n",
    "acc=result.history['acc']\n",
    "val_acc=result.history['val_acc']\n",
    "loss=result.history['loss']\n",
    "val_loss=result.history['val_loss']\n",
    "epochs=range(1,len(acc)+1)\n",
    "plt.plot(epochs,acc,'b',label='training acc')\n",
    "plt.plot(epochs,val_acc,'bo',label='validation acc')\n",
    "plt.title('training and validation accuracy')\n",
    "plt.legend()\n",
    "plt.figure() #이건 새로운 figure 창을 띄우는 method\n",
    "plt.plot(epochs,loss,'b',label='training loss')\n",
    "plt.plot(epochs,val_loss,'bo',label='validation loss')\n",
    "plt.title('training and validation loss')\n",
    "plt.legend()\n",
    "plt.show()"
   ]
  },
  {
   "cell_type": "code",
   "execution_count": 1,
   "metadata": {},
   "outputs": [],
   "source": [
    "#pip install pyprind\n",
    "import pyprind\n",
    "import pandas as pd\n",
    "import os\n",
    "import numpy as np\n",
    "imdb_dir='C:/Users/82104/Desktop/aclImdb/aclImdb'\n",
    "labels={'pos':1, 'neg':0}"
   ]
  },
  {
   "cell_type": "code",
   "execution_count": 2,
   "metadata": {},
   "outputs": [
    {
     "name": "stdout",
     "output_type": "stream",
     "text": [
      "Empty DataFrame\n",
      "Columns: []\n",
      "Index: []\n",
      "----------------------------------\n",
      "Title: \n",
      "  Started: 04/16/2020 21:22:43\n",
      "  Finished: 04/16/2020 21:22:43\n",
      "  Total time elapsed: 00:00:00\n"
     ]
    }
   ],
   "source": [
    "pbar=pyprind.ProgBar(50000)\n",
    "df=pd.DataFrame()\n",
    "print(df)\n",
    "print('----------------------------------')\n",
    "print(pbar)"
   ]
  },
  {
   "cell_type": "code",
   "execution_count": 3,
   "metadata": {},
   "outputs": [
    {
     "name": "stderr",
     "output_type": "stream",
     "text": [
      "0% [##############################] 100% | ETA: 00:00:00\n",
      "Total time elapsed: 00:05:38\n"
     ]
    }
   ],
   "source": [
    "for data_type in ('test', 'train'):\n",
    "    for label_type in ('pos','neg'):\n",
    "        path=os.path.join(imdb_dir,data_type,label_type)\n",
    "        for file in os.listdir(path):\n",
    "            with open(os.path.join(path,file),'r', encoding='utf-8') as infile: # encoding 반드시 써주기.\n",
    "                txt=infile.read() #한꺼번에 데이터를 텍스트로 읽음.\n",
    "            df=df.append([[txt,labels[label_type]]], ignore_index=True) #다 찾아보면서 이해해보기.\n",
    "            pbar.update()"
   ]
  },
  {
   "cell_type": "code",
   "execution_count": 4,
   "metadata": {
    "colab": {},
    "colab_type": "code",
    "id": "d-qAiDuNX9oH",
    "outputId": "bdf38f7c-cd1e-499a-f1cb-14bdc23b5f27"
   },
   "outputs": [
    {
     "name": "stdout",
     "output_type": "stream",
     "text": [
      "                                              review  sentiment\n",
      "0  I went and saw this movie last night after bei...          1\n",
      "1  Actor turned director Bill Paxton follows up h...          1\n",
      "2  As a recreational golfer with some knowledge o...          1\n",
      "3  I saw this film in a sneak preview, and it is ...          1\n",
      "4  Bill Paxton has taken the true story of the 19...          1\n",
      "(50000, 2)\n"
     ]
    }
   ],
   "source": [
    "\n",
    "\n",
    "\n",
    "df.columns=['review', 'sentiment']\n",
    "print(df.head())\n",
    "print(df.shape)\n",
    "df=df.reindex(np.random.permutation(df.index))\n",
    "\n",
    "# numpy data의 경우,\n",
    "# np.random.shuffle(data) + #np.random.shuffle(labels)\n",
    "\n",
    "\n",
    "# pandas 데이터일 경우, \n",
    "# data.sample(frac=1).reset_index(drop=True) \n",
    "# or data.reindex(np.random.permutation(data.index))\n",
    "\n",
    "\n",
    "#pandas일때와 numpy일때 자료를 섞는 방법이 다르므로, 꼭 숙지. \n",
    "\n",
    "\n",
    "\n",
    "# 데이터 받는과정 보는중.\n",
    "# http://mng.bz/0tIo "
   ]
  },
  {
   "cell_type": "code",
   "execution_count": 5,
   "metadata": {
    "scrolled": true
   },
   "outputs": [
    {
     "name": "stdout",
     "output_type": "stream",
     "text": [
      "Int64Index([13683, 42779, 34645, 12182, 32170, 10854, 46955, 41870, 43081,\n",
      "             8371,\n",
      "            ...\n",
      "            12269, 46028, 44821, 27649, 44700, 20314, 29064, 39111, 32693,\n",
      "            42638],\n",
      "           dtype='int64', length=50000)\n"
     ]
    },
    {
     "data": {
      "text/html": [
       "<div>\n",
       "<style scoped>\n",
       "    .dataframe tbody tr th:only-of-type {\n",
       "        vertical-align: middle;\n",
       "    }\n",
       "\n",
       "    .dataframe tbody tr th {\n",
       "        vertical-align: top;\n",
       "    }\n",
       "\n",
       "    .dataframe thead th {\n",
       "        text-align: right;\n",
       "    }\n",
       "</style>\n",
       "<table border=\"1\" class=\"dataframe\">\n",
       "  <thead>\n",
       "    <tr style=\"text-align: right;\">\n",
       "      <th></th>\n",
       "      <th>review</th>\n",
       "      <th>sentiment</th>\n",
       "    </tr>\n",
       "  </thead>\n",
       "  <tbody>\n",
       "    <tr>\n",
       "      <th>13683</th>\n",
       "      <td>There seems to have been some money behind thi...</td>\n",
       "      <td>0</td>\n",
       "    </tr>\n",
       "    <tr>\n",
       "      <th>42779</th>\n",
       "      <td>I understand the jokes quite well, they just a...</td>\n",
       "      <td>0</td>\n",
       "    </tr>\n",
       "    <tr>\n",
       "      <th>34645</th>\n",
       "      <td>I am and was very entertained by the movie. It...</td>\n",
       "      <td>1</td>\n",
       "    </tr>\n",
       "    <tr>\n",
       "      <th>12182</th>\n",
       "      <td>The role of economics in the industrialized No...</td>\n",
       "      <td>1</td>\n",
       "    </tr>\n",
       "    <tr>\n",
       "      <th>32170</th>\n",
       "      <td>Honestly, I was expecting to HATE this one, an...</td>\n",
       "      <td>1</td>\n",
       "    </tr>\n",
       "  </tbody>\n",
       "</table>\n",
       "</div>"
      ],
      "text/plain": [
       "                                                  review  sentiment\n",
       "13683  There seems to have been some money behind thi...          0\n",
       "42779  I understand the jokes quite well, they just a...          0\n",
       "34645  I am and was very entertained by the movie. It...          1\n",
       "12182  The role of economics in the industrialized No...          1\n",
       "32170  Honestly, I was expecting to HATE this one, an...          1"
      ]
     },
     "execution_count": 5,
     "metadata": {},
     "output_type": "execute_result"
    }
   ],
   "source": [
    "print(df.index)\n",
    "df.head()"
   ]
  },
  {
   "cell_type": "code",
   "execution_count": 29,
   "metadata": {},
   "outputs": [],
   "source": [
    "# import os\n",
    "# os.chdir('C:/Users/82104/Desktop')\n",
    "# df.to_csv('imdb.csv')"
   ]
  },
  {
   "cell_type": "code",
   "execution_count": 30,
   "metadata": {},
   "outputs": [],
   "source": [
    "# 읽는건 \n",
    "# df2 = pd.read_csv('imdb.csv',index_col=0)"
   ]
  },
  {
   "cell_type": "code",
   "execution_count": 31,
   "metadata": {},
   "outputs": [
    {
     "data": {
      "text/html": [
       "<div>\n",
       "<style scoped>\n",
       "    .dataframe tbody tr th:only-of-type {\n",
       "        vertical-align: middle;\n",
       "    }\n",
       "\n",
       "    .dataframe tbody tr th {\n",
       "        vertical-align: top;\n",
       "    }\n",
       "\n",
       "    .dataframe thead th {\n",
       "        text-align: right;\n",
       "    }\n",
       "</style>\n",
       "<table border=\"1\" class=\"dataframe\">\n",
       "  <thead>\n",
       "    <tr style=\"text-align: right;\">\n",
       "      <th></th>\n",
       "      <th>review</th>\n",
       "      <th>sentiment</th>\n",
       "    </tr>\n",
       "  </thead>\n",
       "  <tbody>\n",
       "    <tr>\n",
       "      <th>13683</th>\n",
       "      <td>There seems to have been some money behind thi...</td>\n",
       "      <td>0</td>\n",
       "    </tr>\n",
       "    <tr>\n",
       "      <th>42779</th>\n",
       "      <td>I understand the jokes quite well, they just a...</td>\n",
       "      <td>0</td>\n",
       "    </tr>\n",
       "    <tr>\n",
       "      <th>34645</th>\n",
       "      <td>I am and was very entertained by the movie. It...</td>\n",
       "      <td>1</td>\n",
       "    </tr>\n",
       "    <tr>\n",
       "      <th>12182</th>\n",
       "      <td>The role of economics in the industrialized No...</td>\n",
       "      <td>1</td>\n",
       "    </tr>\n",
       "    <tr>\n",
       "      <th>32170</th>\n",
       "      <td>Honestly, I was expecting to HATE this one, an...</td>\n",
       "      <td>1</td>\n",
       "    </tr>\n",
       "  </tbody>\n",
       "</table>\n",
       "</div>"
      ],
      "text/plain": [
       "                                                  review  sentiment\n",
       "13683  There seems to have been some money behind thi...          0\n",
       "42779  I understand the jokes quite well, they just a...          0\n",
       "34645  I am and was very entertained by the movie. It...          1\n",
       "12182  The role of economics in the industrialized No...          1\n",
       "32170  Honestly, I was expecting to HATE this one, an...          1"
      ]
     },
     "execution_count": 31,
     "metadata": {},
     "output_type": "execute_result"
    }
   ],
   "source": [
    "# df2.head()"
   ]
  },
  {
   "cell_type": "code",
   "execution_count": 6,
   "metadata": {},
   "outputs": [],
   "source": [
    "from tensorflow.keras.preprocessing.text import Tokenizer\n",
    "from tensorflow.keras.preprocessing.sequence import pad_sequences\n",
    "import numpy as np\n",
    "training_samples=25000\n",
    "validation_samples=10000 \n",
    "max_words=10000 #실제로는 9999 #이는, 만개의 input노드를 의미하며, 단어공간을 만개로 정의하는것을 의미.\n",
    "maxlen=100 #문장당 100개씩 잘라볼거임.\n",
    "token=Tokenizer(num_words=max_words)"
   ]
  },
  {
   "cell_type": "code",
   "execution_count": 3,
   "metadata": {},
   "outputs": [
    {
     "data": {
      "text/plain": [
       "0"
      ]
     },
     "execution_count": 3,
     "metadata": {},
     "output_type": "execute_result"
    }
   ],
   "source": [
    "3 // 4"
   ]
  },
  {
   "cell_type": "code",
   "execution_count": 7,
   "metadata": {},
   "outputs": [],
   "source": [
    "token.fit_on_texts(df['review'].values) # .value 는 index가 사라지면서 값만나옴. numpy로 나옴."
   ]
  },
  {
   "cell_type": "code",
   "execution_count": 8,
   "metadata": {
    "scrolled": true
   },
   "outputs": [
    {
     "name": "stdout",
     "output_type": "stream",
     "text": [
      "124252\n"
     ]
    }
   ],
   "source": [
    "sequence=token.texts_to_sequences(df['review'].values)\n",
    "word_index=token.word_index\n",
    "print(len(word_index))"
   ]
  },
  {
   "cell_type": "code",
   "execution_count": 9,
   "metadata": {},
   "outputs": [
    {
     "name": "stdout",
     "output_type": "stream",
     "text": [
      "(50000, 100)\n",
      "(50000,)\n"
     ]
    }
   ],
   "source": [
    "labels=df['sentiment'].values \n",
    "data=pad_sequences(sequence, maxlen=maxlen)\n",
    "print(data.shape)\n",
    "print(labels.shape)"
   ]
  },
  {
   "cell_type": "code",
   "execution_count": 10,
   "metadata": {
    "colab": {},
    "colab_type": "code",
    "id": "MLs2ZnslX9oM",
    "outputId": "31947634-cd38-43ae-d9d5-bf1541c688f4"
   },
   "outputs": [],
   "source": [
    "# numpy data의 경우,\n",
    "# np.random.shuffle(data) + # np.random.shuffle(labels)\n",
    "\n",
    "\n",
    "# pandas 데이터일 경우, \n",
    "# data.sample(frac=1).reset_index(drop=True) \n",
    "# or data.reindex(np.random.permutation(data.index))\n",
    "\n",
    "\n",
    "#pandas일때와 numpy일때 자료를 섞는 방법이 다르므로, 꼭 숙지. \n",
    "\n",
    "\n",
    "x_train=data[:training_samples]\n",
    "y_train=labels[:training_samples]\n",
    "x_val=data[training_samples:training_samples+10000]\n",
    "y_val=labels[training_samples:training_samples+10000]\n",
    "x_test=data[training_samples+10000:]\n",
    "y_test=labels[training_samples+10000:]"
   ]
  },
  {
   "cell_type": "code",
   "execution_count": 30,
   "metadata": {
    "colab": {},
    "colab_type": "code",
    "id": "qjiSoT6TX9oS",
    "outputId": "aaccdc96-7cd7-4c11-c43d-bafc63161c0b"
   },
   "outputs": [
    {
     "name": "stdout",
     "output_type": "stream",
     "text": [
      "400000\n"
     ]
    }
   ],
   "source": [
    "# glove 모형에 의해 이미 만들어진 word embedding은 다음의 주소에서 다운받는다.\n",
    "# https://nlp.stanford.edu/projects/glove -> glove.6B.zip 다운받음.\n",
    "\n",
    "#50차원, 100차원, 200차원, 300차원 4가지 word embedding 벡터를 제공함.\n",
    "# 우리는 이중 100차원을 사용함. (dense matrix) / 차원이 크면 클수록 문맥적 의미를 더 잘 고려하는 \n",
    "# embedding을 불러옴. \n",
    "# 즉, 40만개의 단어중, 100 x 100의 dense matrix 로 표현한 모형을 불러옴.\n",
    "\n",
    "glove_dir='C:/Users/82104/Desktop/glove.6B'\n",
    "embedding_index={}\n",
    "f=open(os.path.join(glove_dir,'glove.6B.100d.txt'),encoding='UTF8') # utf-8이 맞는표현\n",
    "\n",
    "# glove.6B.100d.txt 는 각 줄마다 첫번째에 text값, 이어지는 100개의 열에는 text에 해당하는 dense vector가 있음.\n",
    "\n",
    "for line in f:\n",
    "    values=line.split()\n",
    "    word=values[0]\n",
    "    seq=np.asarray(values[1:],dtype='float32') # 1번은 100개의 dim으로 word embedding진행.\n",
    "    embedding_index[word]=seq # 함수화시킴.\n",
    "f.close\n",
    "print(len(embedding_index)) #40만개의 words에 대한 100개의 feature들이 있음."
   ]
  },
  {
   "cell_type": "code",
   "execution_count": 32,
   "metadata": {
    "colab": {},
    "colab_type": "code",
    "id": "BUkcw_t3X9oZ"
   },
   "outputs": [],
   "source": [
    "embedding_dim=100\n",
    "embedding_matrix=np.zeros((max_words,embedding_dim)) # dense vector를 100개로, 우리가 다루기로 했었음.\n",
    "for word,i in word_index.items(): # dict였음.\n",
    "    if i<max_words:\n",
    "        embedding_vector=embedding_index.get(word) \n",
    "        # glove 이용과정. imdb의 10000개 데이터에 대한것들만 를 glove 모수에 계산함.\n",
    "        # 마치 pre-training 하듯.\n",
    "        \n",
    "        if embedding_vector is not None:\n",
    "            embedding_matrix[i]=embedding_vector"
   ]
  },
  {
   "cell_type": "code",
   "execution_count": 33,
   "metadata": {},
   "outputs": [
    {
     "data": {
      "text/plain": [
       "(10000, 100)"
      ]
     },
     "execution_count": 33,
     "metadata": {},
     "output_type": "execute_result"
    }
   ],
   "source": [
    "embedding_matrix.shape"
   ]
  },
  {
   "cell_type": "code",
   "execution_count": 0,
   "metadata": {
    "colab": {},
    "colab_type": "code",
    "id": "NqsrdZSHX9od",
    "outputId": "b9fe6e02-899e-40d0-fe54-16d2019466a6"
   },
   "outputs": [
    {
     "name": "stdout",
     "output_type": "stream",
     "text": [
      "Model: \"sequential_17\"\n",
      "_________________________________________________________________\n",
      "Layer (type)                 Output Shape              Param #   \n",
      "=================================================================\n",
      "embedding_17 (Embedding)     (None, 100, 100)          1000000   \n",
      "_________________________________________________________________\n",
      "flatten_17 (Flatten)         (None, 10000)             0         \n",
      "_________________________________________________________________\n",
      "dropout_11 (Dropout)         (None, 10000)             0         \n",
      "_________________________________________________________________\n",
      "dense_20 (Dense)             (None, 1)                 10001     \n",
      "=================================================================\n",
      "Total params: 1,010,001\n",
      "Trainable params: 1,010,001\n",
      "Non-trainable params: 0\n",
      "_________________________________________________________________\n"
     ]
    }
   ],
   "source": [
    "from tensorflow.keras.models import Sequential\n",
    "from tensorflow.keras.layers import Embedding,Dense,Flatten,Dropout\n",
    "model_gl=Sequential()\n",
    "model_gl.add(Embedding(max_words,embedding_dim,input_length=maxlen)) # 1만개였고, 100개의 노드 -> 100만\n",
    "# max_words = 1만 , embedding_dim = 100 (텍스트에서 100을 썻으므로) , input_length = 100 (시간스텝- 설정한 window size)\n",
    "\n",
    "model_gl.add(Flatten())\n",
    "model_gl.add(Dropout(0.3))\n",
    "model_gl.add(Dense(1,activation='sigmoid'))\n",
    "model_gl.summary()"
   ]
  },
  {
   "cell_type": "code",
   "execution_count": 0,
   "metadata": {
    "colab": {},
    "colab_type": "code",
    "id": "hVXUYb0_X9oh"
   },
   "outputs": [],
   "source": [
    "model_gl.layers[0].set_weights([embedding_matrix]) # glove에 통과시켜 만든 embedding matrix\n",
    "model_gl.layers[0].trainable=False # trainable하지 않게. 즉, 10001개만 학습시킴."
   ]
  },
  {
   "cell_type": "code",
   "execution_count": 0,
   "metadata": {
    "colab": {},
    "colab_type": "code",
    "id": "bLvsHMZAX9ol",
    "outputId": "d5910085-1199-4061-b2b3-1f876389a4df"
   },
   "outputs": [
    {
     "name": "stdout",
     "output_type": "stream",
     "text": [
      "Train on 25000 samples, validate on 10000 samples\n",
      "Epoch 1/20\n",
      "25000/25000 [==============================] - 2s 96us/step - loss: 0.7066 - acc: 0.6281 - val_loss: 0.9267 - val_acc: 0.5683\n",
      "Epoch 2/20\n",
      "25000/25000 [==============================] - 2s 85us/step - loss: 0.6168 - acc: 0.6999 - val_loss: 0.7735 - val_acc: 0.6339\n",
      "Epoch 3/20\n",
      "25000/25000 [==============================] - 2s 85us/step - loss: 0.5941 - acc: 0.7211 - val_loss: 0.6138 - val_acc: 0.7066\n",
      "Epoch 4/20\n",
      "25000/25000 [==============================] - 2s 85us/step - loss: 0.5749 - acc: 0.7366 - val_loss: 0.5868 - val_acc: 0.7229\n",
      "Epoch 5/20\n",
      "25000/25000 [==============================] - 2s 87us/step - loss: 0.5638 - acc: 0.7422 - val_loss: 0.6242 - val_acc: 0.7133\n",
      "Epoch 6/20\n",
      "25000/25000 [==============================] - 2s 88us/step - loss: 0.5731 - acc: 0.7418 - val_loss: 0.7582 - val_acc: 0.6765\n",
      "Epoch 7/20\n",
      "25000/25000 [==============================] - 2s 86us/step - loss: 0.5704 - acc: 0.7459 - val_loss: 0.6380 - val_acc: 0.7089\n",
      "Epoch 8/20\n",
      "25000/25000 [==============================] - 2s 89us/step - loss: 0.5669 - acc: 0.7504 - val_loss: 0.5886 - val_acc: 0.7262\n",
      "Epoch 9/20\n",
      "25000/25000 [==============================] - 2s 86us/step - loss: 0.5572 - acc: 0.7527 - val_loss: 0.6293 - val_acc: 0.7155\n",
      "Epoch 10/20\n",
      "25000/25000 [==============================] - 2s 85us/step - loss: 0.5713 - acc: 0.7496 - val_loss: 0.6915 - val_acc: 0.6972\n",
      "Epoch 11/20\n",
      "25000/25000 [==============================] - 2s 86us/step - loss: 0.5706 - acc: 0.7540 - val_loss: 0.6109 - val_acc: 0.7246\n",
      "Epoch 12/20\n",
      "25000/25000 [==============================] - 2s 85us/step - loss: 0.5659 - acc: 0.7516 - val_loss: 0.7061 - val_acc: 0.6967\n",
      "Epoch 13/20\n",
      "25000/25000 [==============================] - 2s 87us/step - loss: 0.5652 - acc: 0.7545 - val_loss: 0.6175 - val_acc: 0.7230\n",
      "Epoch 14/20\n",
      "25000/25000 [==============================] - 2s 87us/step - loss: 0.5680 - acc: 0.7545 - val_loss: 0.8063 - val_acc: 0.6745\n",
      "Epoch 15/20\n",
      "25000/25000 [==============================] - 2s 85us/step - loss: 0.5707 - acc: 0.7525 - val_loss: 0.6243 - val_acc: 0.7229\n",
      "Epoch 16/20\n",
      "25000/25000 [==============================] - 2s 86us/step - loss: 0.5633 - acc: 0.7542 - val_loss: 0.6164 - val_acc: 0.7228\n",
      "Epoch 17/20\n",
      "25000/25000 [==============================] - 2s 86us/step - loss: 0.5598 - acc: 0.7572 - val_loss: 0.6626 - val_acc: 0.7093\n",
      "Epoch 18/20\n",
      "25000/25000 [==============================] - 2s 85us/step - loss: 0.5698 - acc: 0.7535 - val_loss: 0.7536 - val_acc: 0.6921\n",
      "Epoch 19/20\n",
      "25000/25000 [==============================] - 2s 86us/step - loss: 0.5708 - acc: 0.7547 - val_loss: 0.6105 - val_acc: 0.7273\n",
      "Epoch 20/20\n",
      "25000/25000 [==============================] - 2s 87us/step - loss: 0.5631 - acc: 0.7588 - val_loss: 0.7313 - val_acc: 0.6928\n"
     ]
    }
   ],
   "source": [
    "model_gl.compile(optimizer='rmsprop',loss='binary_crossentropy',metrics=['acc'])\n",
    "gl_result=model_gl.fit(x_train,y_train,epochs=20,batch_size=32,validation_data=(x_val,y_val)) \n",
    "model_gl.save_weights('C:/Users/ysp/Desktop/딥러닝 프로그램/glove_model.h5')                 "
   ]
  },
  {
   "cell_type": "code",
   "execution_count": 0,
   "metadata": {
    "colab": {},
    "colab_type": "code",
    "id": "qvViXIUoX9os",
    "outputId": "d6f70d07-0326-49e3-981b-9358f6f8d411"
   },
   "outputs": [
    {
     "data": {
      "image/png": "[encoded data removed]",
      "text/plain": [
       "<Figure size 432x288 with 1 Axes>"
      ]
     },
     "metadata": {
      "needs_background": "light",
      "tags": []
     },
     "output_type": "display_data"
    },
    {
     "data": {
      "image/png": "[encoded data removed]",
      "text/plain": [
       "<Figure size 432x288 with 1 Axes>"
      ]
     },
     "metadata": {
      "needs_background": "light",
      "tags": []
     },
     "output_type": "display_data"
    }
   ],
   "source": [
    "import matplotlib.pyplot as plt\n",
    "acc=gl_result.history['acc']\n",
    "val_acc=gl_result.history['val_acc']\n",
    "loss=gl_result.history['loss']\n",
    "val_loss=gl_result.history['val_loss']\n",
    "epochs=range(1,len(acc)+1)\n",
    "plt.plot(epochs,acc,'b',label='training acc')\n",
    "plt.plot(epochs,val_acc,'bo',label='validation acc')\n",
    "plt.title('training and validation accuracy')\n",
    "plt.legend()\n",
    "plt.figure()\n",
    "plt.plot(epochs,loss,'b',label='training loss')\n",
    "plt.plot(epochs,val_loss,'bo',label='validation loss')\n",
    "plt.title('training and validation loss')\n",
    "plt.legend()\n",
    "plt.show()\n",
    "\n",
    "# glove를 써도 생각보다 안좋은 경우가 많다.\n",
    "# 그래서 텍스트에 특화된 embedding을 사용하는 경우가 많다.\n",
    "# overfitting 치료방법도 생각해야함.\n",
    "# mlp층을 넣는다는지, dropout 사용, 마지막 층 노드 줄이기, \n",
    "# time step을 500개로 늘려보기. normalization 하지말기.\n",
    "\n",
    "#dropout 비율도 변경해보기."
   ]
  },
  {
   "cell_type": "code",
   "execution_count": 0,
   "metadata": {
    "colab": {},
    "colab_type": "code",
    "id": "F1mwp2g3X9ow",
    "outputId": "75d26c70-8a65-4e49-b77b-bf60ec29b427"
   },
   "outputs": [
    {
     "name": "stdout",
     "output_type": "stream",
     "text": [
      "15000/15000 [==============================] - 1s 35us/step\n",
      "0.7352235678990682\n",
      "0.6937999725341797\n"
     ]
    }
   ],
   "source": [
    "loss,acc=model_gl.evaluate(x_test,y_test)\n",
    "print(loss)\n",
    "print(acc)"
   ]
  },
  {
   "cell_type": "code",
   "execution_count": 0,
   "metadata": {
    "colab": {},
    "colab_type": "code",
    "id": "p8f3f585X9o0"
   },
   "outputs": [],
   "source": [
    "#제 6장의 과제 마감날은 23일 오후 2시입니다. 23일 당일만 e-mail로 과제를 제출해야 합니다.\n",
    "\n",
    "#1. time steps를 100에서 500으로 증가시킬 것. 이전학습에서도 동일하게 time steps를 증가하여 학습시킬 것\n",
    "\n",
    "#2. dropout를 이용하여 과대적합문제를 해결할 것\n",
    "\n",
    "#3. 다른 사항은 강의 녹화를 듣고 반영할 것"
   ]
  }
 ],
 "metadata": {
  "accelerator": "GPU",
  "colab": {
   "name": "ch6_3.ipynb",
   "provenance": []
  },
  "kernelspec": {
   "display_name": "Python 3",
   "language": "python",
   "name": "python3"
  },
  "language_info": {
   "codemirror_mode": {
    "name": "ipython",
    "version": 3
   },
   "file_extension": ".py",
   "mimetype": "text/x-python",
   "name": "python",
   "nbconvert_exporter": "python",
   "pygments_lexer": "ipython3",
   "version": "3.7.3"
  }
 },
 "nbformat": 4,
 "nbformat_minor": 1
}
