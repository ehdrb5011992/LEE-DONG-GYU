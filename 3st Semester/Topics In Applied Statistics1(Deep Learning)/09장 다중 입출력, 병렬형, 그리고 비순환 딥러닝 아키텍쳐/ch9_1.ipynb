{
 "cells": [
  {
   "cell_type": "code",
   "execution_count": 3,
   "metadata": {},
   "outputs": [
    {
     "name": "stderr",
     "output_type": "stream",
     "text": [
      "Using TensorFlow backend.\n"
     ]
    },
    {
     "name": "stdout",
     "output_type": "stream",
     "text": [
      "Model: \"sequential_1\"\n",
      "_________________________________________________________________\n",
      "Layer (type)                 Output Shape              Param #   \n",
      "=================================================================\n",
      "dense_1 (Dense)              (None, 32)                1632      \n",
      "_________________________________________________________________\n",
      "dense_2 (Dense)              (None, 1)                 33        \n",
      "=================================================================\n",
      "Total params: 1,665\n",
      "Trainable params: 1,665\n",
      "Non-trainable params: 0\n",
      "_________________________________________________________________\n"
     ]
    }
   ],
   "source": [
    "from keras.models import Sequential\n",
    "from keras.layers import Dense\n",
    "one_way_model=Sequential()\n",
    "one_way_model.add(Dense(32,activation='relu', input_shape=(50,)))\n",
    "one_way_model.add(Dense(1, activation='sigmoid'))\n",
    "one_way_model.summary()"
   ]
  },
  {
   "cell_type": "code",
   "execution_count": 4,
   "metadata": {},
   "outputs": [
    {
     "name": "stdout",
     "output_type": "stream",
     "text": [
      "Model: \"model_1\"\n",
      "_________________________________________________________________\n",
      "Layer (type)                 Output Shape              Param #   \n",
      "=================================================================\n",
      "input_1 (InputLayer)         (None, 50)                0         \n",
      "_________________________________________________________________\n",
      "dense_3 (Dense)              (None, 32)                1632      \n",
      "_________________________________________________________________\n",
      "dense_4 (Dense)              (None, 1)                 33        \n",
      "=================================================================\n",
      "Total params: 1,665\n",
      "Trainable params: 1,665\n",
      "Non-trainable params: 0\n",
      "_________________________________________________________________\n"
     ]
    }
   ],
   "source": [
    "from keras.models import Model\n",
    "from keras.layers import Dense\n",
    "from keras import Input\n",
    "input_1=Input(shape=(50,))\n",
    "dense_1=Dense(32, activation='relu')\n",
    "x=dense_1(input_1)\n",
    "dense_2=Dense(1,activation='sigmoid')\n",
    "out_1=dense_2(x)\n",
    "model_1=Model(input_1,out_1)\n",
    "model_1.summary()"
   ]
  },
  {
   "cell_type": "code",
   "execution_count": 5,
   "metadata": {},
   "outputs": [
    {
     "name": "stdout",
     "output_type": "stream",
     "text": [
      "Model: \"model_2\"\n",
      "_________________________________________________________________\n",
      "Layer (type)                 Output Shape              Param #   \n",
      "=================================================================\n",
      "input_2 (InputLayer)         (None, 50)                0         \n",
      "_________________________________________________________________\n",
      "dense_5 (Dense)              (None, 32)                1632      \n",
      "_________________________________________________________________\n",
      "dense_6 (Dense)              (None, 1)                 33        \n",
      "=================================================================\n",
      "Total params: 1,665\n",
      "Trainable params: 1,665\n",
      "Non-trainable params: 0\n",
      "_________________________________________________________________\n"
     ]
    }
   ],
   "source": [
    "from keras.models import Model\n",
    "from keras.layers import Dense\n",
    "from keras import Input\n",
    "input_2=Input(shape=(50,))\n",
    "x=Dense(32, activation='relu')(input_2)\n",
    "y=Dense(1,activation='sigmoid')(x)\n",
    "model_2=Model(input_2,y)\n",
    "model_2.summary()"
   ]
  },
  {
   "cell_type": "code",
   "execution_count": 5,
   "metadata": {},
   "outputs": [
    {
     "name": "stdout",
     "output_type": "stream",
     "text": [
      "Model: \"model_3\"\n",
      "__________________________________________________________________________________________________\n",
      "Layer (type)                    Output Shape         Param #     Connected to                     \n",
      "==================================================================================================\n",
      "input_5 (InputLayer)            (None, 128, 128, 3)  0                                            \n",
      "__________________________________________________________________________________________________\n",
      "input_6 (InputLayer)            (None, 500)          0                                            \n",
      "__________________________________________________________________________________________________\n",
      "conv2d_1 (Conv2D)               (None, 126, 126, 64) 1792        input_5[0][0]                    \n",
      "__________________________________________________________________________________________________\n",
      "embedding_5 (Embedding)         (None, 500, 120)     1200000     input_6[0][0]                    \n",
      "__________________________________________________________________________________________________\n",
      "input_7 (InputLayer)            (None, 1)            0                                            \n",
      "__________________________________________________________________________________________________\n",
      "global_max_pooling2d_1 (GlobalM (None, 64)           0           conv2d_1[0][0]                   \n",
      "__________________________________________________________________________________________________\n",
      "lstm_1 (LSTM)                   (None, 32)           19584       embedding_5[0][0]                \n",
      "__________________________________________________________________________________________________\n",
      "dense_4 (Dense)                 (None, 5)            10          input_7[0][0]                    \n",
      "__________________________________________________________________________________________________\n",
      "concatenate_1 (Concatenate)     (None, 101)          0           global_max_pooling2d_1[0][0]     \n",
      "                                                                 lstm_1[0][0]                     \n",
      "                                                                 dense_4[0][0]                    \n",
      "__________________________________________________________________________________________________\n",
      "dense_5 (Dense)                 (None, 1)            102         concatenate_1[0][0]              \n",
      "==================================================================================================\n",
      "Total params: 1,221,488\n",
      "Trainable params: 1,221,488\n",
      "Non-trainable params: 0\n",
      "__________________________________________________________________________________________________\n"
     ]
    },
    {
     "ename": "NameError",
     "evalue": "name 'image' is not defined",
     "output_type": "error",
     "traceback": [
      "\u001b[1;31m---------------------------------------------------------------------------\u001b[0m",
      "\u001b[1;31mNameError\u001b[0m                                 Traceback (most recent call last)",
      "\u001b[1;32m<ipython-input-5-df8be999f9ea>\u001b[0m in \u001b[0;36m<module>\u001b[1;34m\u001b[0m\n\u001b[0;32m     20\u001b[0m \u001b[1;33m\u001b[0m\u001b[0m\n\u001b[0;32m     21\u001b[0m \u001b[0mmodel\u001b[0m\u001b[1;33m.\u001b[0m\u001b[0mcompile\u001b[0m\u001b[1;33m(\u001b[0m\u001b[0moptimizer\u001b[0m\u001b[1;33m=\u001b[0m\u001b[1;34m'rmsprop'\u001b[0m\u001b[1;33m,\u001b[0m \u001b[0mloss\u001b[0m\u001b[1;33m=\u001b[0m\u001b[1;34m'mse'\u001b[0m\u001b[1;33m,\u001b[0m \u001b[0mmetrics\u001b[0m\u001b[1;33m=\u001b[0m\u001b[1;33m[\u001b[0m\u001b[1;34m'mae'\u001b[0m\u001b[1;33m]\u001b[0m\u001b[1;33m)\u001b[0m\u001b[1;33m\u001b[0m\u001b[1;33m\u001b[0m\u001b[0m\n\u001b[1;32m---> 22\u001b[1;33m \u001b[0mmodel\u001b[0m\u001b[1;33m.\u001b[0m\u001b[0mfit\u001b[0m\u001b[1;33m(\u001b[0m\u001b[1;33m[\u001b[0m\u001b[0mimage\u001b[0m\u001b[1;33m,\u001b[0m \u001b[0mtext\u001b[0m\u001b[1;33m,\u001b[0m \u001b[0mage\u001b[0m\u001b[1;33m]\u001b[0m\u001b[1;33m,\u001b[0m \u001b[0my_train\u001b[0m\u001b[1;33m,\u001b[0m \u001b[0mepochs\u001b[0m\u001b[1;33m=\u001b[0m\u001b[1;36m20\u001b[0m\u001b[1;33m,\u001b[0m \u001b[0mbatch_size\u001b[0m\u001b[1;33m=\u001b[0m\u001b[1;36m128\u001b[0m\u001b[1;33m)\u001b[0m\u001b[1;33m\u001b[0m\u001b[1;33m\u001b[0m\u001b[0m\n\u001b[0m",
      "\u001b[1;31mNameError\u001b[0m: name 'image' is not defined"
     ]
    }
   ],
   "source": [
    "# 다중 입력\n",
    "\n",
    "from keras.models import Model\n",
    "from keras.layers import Conv2D, GlobalMaxPooling2D, Embedding, LSTM, Dense, concatenate\n",
    "from keras import Input\n",
    "\n",
    "image_input=Input(shape=(128,128,3))\n",
    "image_layer=Conv2D(64, (3,3), activation='relu')(image_input)\n",
    "image_pool=GlobalMaxPooling2D()(image_layer)\n",
    "\n",
    "maxlen=500 \n",
    "text_input=Input(shape=(maxlen,))\n",
    "\n",
    "# 1만개의 단어(정확히는 9999개의 단어)공간에서, 1개의 sample을 500개의 단어(500의 문장길이, 시간스탭)로 제한시킴(살펴볼거임). \n",
    "# 1개의 sample, (500,)벡터는 각 원소가 0부터 1만 이상의 값을 지닐 수 있음. 이를 1만으로 제한시킴.\n",
    "\n",
    "# 그리고 결국, 120개의 feature로 뽑는 과정이라 생각하면 쉬움.\n",
    "\n",
    "text_layer=Embedding(10000,120)(text_input) #  size가 120인 factor로 변환\n",
    "text_lstm=LSTM(32)(text_layer)\n",
    "\n",
    "age_input=Input(shape=(1,))\n",
    "age_layer=Dense(5)(age_input)\n",
    "concatenated=concatenate([image_pool, text_lstm, age_layer], axis=-1) # 마지막 축을 기준으로 더함.\n",
    "price=Dense(1)(concatenated)\n",
    "model=Model([image_input, text_input, age_input], price)\n",
    "model.summary()\n",
    "\n",
    "model.compile(optimizer='rmsprop', loss='mse', metrics=['mae'])\n",
    "model.fit([image, text, age], y_train, epochs=20, batch_size=128)\n",
    "\n",
    "# 가정만 하고, 데이터는 없으므로 error가 뜬 상황."
   ]
  },
  {
   "cell_type": "code",
   "execution_count": 4,
   "metadata": {},
   "outputs": [
    {
     "name": "stdout",
     "output_type": "stream",
     "text": [
      "Model: \"model_2\"\n",
      "__________________________________________________________________________________________________\n",
      "Layer (type)                    Output Shape         Param #     Connected to                     \n",
      "==================================================================================================\n",
      "input_4 (InputLayer)            (None, 500)          0                                            \n",
      "__________________________________________________________________________________________________\n",
      "embedding_4 (Embedding)         (None, 500, 128)     1280000     input_4[0][0]                    \n",
      "__________________________________________________________________________________________________\n",
      "conv1d_7 (Conv1D)               (None, 494, 256)     229632      embedding_4[0][0]                \n",
      "__________________________________________________________________________________________________\n",
      "max_pooling1d_4 (MaxPooling1D)  (None, 98, 256)      0           conv1d_7[0][0]                   \n",
      "__________________________________________________________________________________________________\n",
      "conv1d_8 (Conv1D)               (None, 94, 512)      655872      max_pooling1d_4[0][0]            \n",
      "__________________________________________________________________________________________________\n",
      "global_max_pooling1d_3 (GlobalM (None, 512)          0           conv1d_8[0][0]                   \n",
      "__________________________________________________________________________________________________\n",
      "dense_3 (Dense)                 (None, 128)          65664       global_max_pooling1d_3[0][0]     \n",
      "__________________________________________________________________________________________________\n",
      "sex (Dense)                     (None, 1)            129         dense_3[0][0]                    \n",
      "__________________________________________________________________________________________________\n",
      "age (Dense)                     (None, 1)            129         dense_3[0][0]                    \n",
      "__________________________________________________________________________________________________\n",
      "job (Dense)                     (None, 10)           1290        dense_3[0][0]                    \n",
      "==================================================================================================\n",
      "Total params: 2,232,716\n",
      "Trainable params: 2,232,716\n",
      "Non-trainable params: 0\n",
      "__________________________________________________________________________________________________\n"
     ]
    }
   ],
   "source": [
    "# 다중 출력\n",
    "\n",
    "from keras.models import Model\n",
    "from keras.layers import Conv1D, MaxPooling1D, GlobalMaxPooling1D, Embedding, Dense\n",
    "from keras import Input\n",
    "\n",
    "maxlen=500\n",
    "text_input=Input(shape=(maxlen,))\n",
    "embedding_text=Embedding(10000,128)(text_input)\n",
    "x=Conv1D(256,7,activation='relu')(embedding_text) # conv1D임에 명심. CNN + RNN 에 예로 진행했었음.\n",
    "\n",
    "# 즉, CNN이 4D , image data로만 진행하는 것은 아니다.\n",
    "\n",
    "x=MaxPooling1D(5)(x)\n",
    "x=Conv1D(512,5,activation='relu')(x)\n",
    "x=GlobalMaxPooling1D()(x) # time step으로 maxpooling 을 진행.\n",
    "x=Dense(128,activation='relu')(x)\n",
    "sex_out=Dense(1, activation='sigmoid', name='sex')(x)\n",
    "age_out=Dense(1,name='age')(x)\n",
    "job_out=Dense(10,activation='softmax', name='job')(x)\n",
    "model=Model(text_input, [sex_out,age_out,job_out])\n",
    "model.summary()\n",
    "\n",
    "model.compile(optimizer='rmsprop', loss=['binary_crossentropy','mse','categorical_crossentropy'])\n",
    "# loss를 어떻게 쓰는지에 대해 초점을 두고 보면 좋다.\n",
    "# 이때, 전체 loss를 보면, 당연히 mse의 loss가 굉장히 클거임. \n",
    "# 따라서 weight를 주고, 전체 loss를 조절할 수 있음.\n",
    "\n",
    "# loss = {'sex':'binary_crossentropy' ,'age':'mse' ,'job':'categorical_crossentropy'}\n",
    "# loss_weight = {'sex':10,'age':0.25,'job':1.} 이런식으로 옵션가능."
   ]
  },
  {
   "cell_type": "code",
   "execution_count": null,
   "metadata": {},
   "outputs": [],
   "source": []
  }
 ],
 "metadata": {
  "kernelspec": {
   "display_name": "Python 3",
   "language": "python",
   "name": "python3"
  },
  "language_info": {
   "codemirror_mode": {
    "name": "ipython",
    "version": 3
   },
   "file_extension": ".py",
   "mimetype": "text/x-python",
   "name": "python",
   "nbconvert_exporter": "python",
   "pygments_lexer": "ipython3",
   "version": "3.7.3"
  }
 },
 "nbformat": 4,
 "nbformat_minor": 4
}
